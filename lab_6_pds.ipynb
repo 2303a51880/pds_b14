{
  "nbformat": 4,
  "nbformat_minor": 0,
  "metadata": {
    "colab": {
      "provenance": [],
      "authorship_tag": "ABX9TyMLJkQLZZL48tdiedMxHfdJ",
      "include_colab_link": true
    },
    "kernelspec": {
      "name": "python3",
      "display_name": "Python 3"
    },
    "language_info": {
      "name": "python"
    }
  },
  "cells": [
    {
      "cell_type": "markdown",
      "metadata": {
        "id": "view-in-github",
        "colab_type": "text"
      },
      "source": [
        "<a href=\"https://colab.research.google.com/github/2303a51880/pds_b14/blob/main/lab_6_pds.ipynb\" target=\"_parent\"><img src=\"https://colab.research.google.com/assets/colab-badge.svg\" alt=\"Open In Colab\"/></a>"
      ]
    },
    {
      "cell_type": "code",
      "source": [
        "import pandas as pd\n",
        "\n",
        "# Step 1: Load Titanic dataset\n",
        "df = pd.read_csv(\"Titanic-Dataset.csv\")   # Replace with your file path\n",
        "\n",
        "print(\"===== BEFORE CLEANING =====\")\n",
        "print(df.isnull().sum())   # Summary of missing values before cleaning\n",
        "\n",
        "# Step 2: Handle Missing Values\n",
        "# Fill missing Age with mean\n",
        "if 'Age' in df.columns:\n",
        "    df['Age'].fillna(df['Age'].mean(), inplace=True)\n",
        "\n",
        "# Fill missing Embarked with mode\n",
        "if 'Embarked' in df.columns:\n",
        "    df['Embarked'].fillna(df['Embarked'].mode()[0], inplace=True)\n",
        "\n",
        "# Drop irrelevant column 'Cabin'\n",
        "if 'Cabin' in df.columns:\n",
        "    df.drop(columns=['Cabin'], inplace=True)\n",
        "\n",
        "print(\"\\n===== AFTER CLEANING =====\")\n",
        "print(df.isnull().sum())   # Summary of missing values after cleaning\n",
        "\n",
        "# Step 3: Save cleaned dataset (optional)\n",
        "df.to_csv(\"titanic_cleaned.csv\", index=False)\n",
        "\n",
        "print(\"\\nData Cleaning Completed! Cleaned dataset saved as 'titanic_cleaned.csv'\")"
      ],
      "metadata": {
        "colab": {
          "base_uri": "https://localhost:8080/",
          "height": 0
        },
        "id": "Un6FzOI6rLpb",
        "outputId": "80326403-ccf1-4a44-805e-537a552c4b81"
      },
      "execution_count": 1,
      "outputs": [
        {
          "output_type": "stream",
          "name": "stdout",
          "text": [
            "===== BEFORE CLEANING =====\n",
            "PassengerId      0\n",
            "Survived         0\n",
            "Pclass           0\n",
            "Name             0\n",
            "Sex              0\n",
            "Age            177\n",
            "SibSp            0\n",
            "Parch            0\n",
            "Ticket           0\n",
            "Fare             0\n",
            "Cabin          687\n",
            "Embarked         2\n",
            "dtype: int64\n",
            "\n",
            "===== AFTER CLEANING =====\n",
            "PassengerId    0\n",
            "Survived       0\n",
            "Pclass         0\n",
            "Name           0\n",
            "Sex            0\n",
            "Age            0\n",
            "SibSp          0\n",
            "Parch          0\n",
            "Ticket         0\n",
            "Fare           0\n",
            "Embarked       0\n",
            "dtype: int64\n",
            "\n",
            "Data Cleaning Completed! Cleaned dataset saved as 'titanic_cleaned.csv'\n"
          ]
        },
        {
          "output_type": "stream",
          "name": "stderr",
          "text": [
            "/tmp/ipython-input-1398660339.py:12: FutureWarning: A value is trying to be set on a copy of a DataFrame or Series through chained assignment using an inplace method.\n",
            "The behavior will change in pandas 3.0. This inplace method will never work because the intermediate object on which we are setting values always behaves as a copy.\n",
            "\n",
            "For example, when doing 'df[col].method(value, inplace=True)', try using 'df.method({col: value}, inplace=True)' or df[col] = df[col].method(value) instead, to perform the operation inplace on the original object.\n",
            "\n",
            "\n",
            "  df['Age'].fillna(df['Age'].mean(), inplace=True)\n",
            "/tmp/ipython-input-1398660339.py:16: FutureWarning: A value is trying to be set on a copy of a DataFrame or Series through chained assignment using an inplace method.\n",
            "The behavior will change in pandas 3.0. This inplace method will never work because the intermediate object on which we are setting values always behaves as a copy.\n",
            "\n",
            "For example, when doing 'df[col].method(value, inplace=True)', try using 'df.method({col: value}, inplace=True)' or df[col] = df[col].method(value) instead, to perform the operation inplace on the original object.\n",
            "\n",
            "\n",
            "  df['Embarked'].fillna(df['Embarked'].mode()[0], inplace=True)\n"
          ]
        }
      ]
    },
    {
      "cell_type": "code",
      "execution_count": 2,
      "metadata": {
        "colab": {
          "base_uri": "https://localhost:8080/"
        },
        "id": "q44NzSvVq94-",
        "outputId": "d5d7de3a-6f2c-4ac0-d59c-bca80647ca6d"
      },
      "outputs": [
        {
          "output_type": "stream",
          "name": "stdout",
          "text": [
            "===== Original Dataset =====\n",
            "   StudentID    Name  Gender\n",
            "0          1   Arjun       M\n",
            "1          2   Priya    Male\n",
            "2          3   Rahul    male\n",
            "3          4   Sneha       F\n",
            "4          5  Vikram  Female\n",
            "5          6   Anita  female\n",
            "\n",
            "===== Cleaned Dataset =====\n",
            "   StudentID    Name  Gender\n",
            "0          1   Arjun    Male\n",
            "1          2   Priya    Male\n",
            "2          3   Rahul    Male\n",
            "3          4   Sneha  Female\n",
            "4          5  Vikram  Female\n",
            "5          6   Anita  Female\n"
          ]
        }
      ],
      "source": [
        "import pandas as pd\n",
        "\n",
        "# Step 1: Create mock student dataset with inconsistent Gender labels\n",
        "data = {\n",
        "    \"StudentID\": [1, 2, 3, 4, 5, 6],\n",
        "    \"Name\": [\"Arjun\", \"Priya\", \"Rahul\", \"Sneha\", \"Vikram\", \"Anita\"],\n",
        "    \"Gender\": [\"M\", \"Male\", \"male\", \"F\", \"Female\", \"female\"]\n",
        "}\n",
        "\n",
        "df = pd.DataFrame(data)\n",
        "\n",
        "print(\"===== Original Dataset =====\")\n",
        "print(df)\n",
        "\n",
        "# Step 2: Standardize Gender values\n",
        "df['Gender'] = df['Gender'].str.strip().str.lower()   # normalize to lowercase\n",
        "df['Gender'] = df['Gender'].replace({\n",
        "    \"m\": \"Male\",\n",
        "    \"male\": \"Male\",\n",
        "    \"f\": \"Female\",\n",
        "    \"female\": \"Female\"\n",
        "})\n",
        "\n",
        "print(\"\\n===== Cleaned Dataset =====\")\n",
        "print(df)"
      ]
    }
  ]
}